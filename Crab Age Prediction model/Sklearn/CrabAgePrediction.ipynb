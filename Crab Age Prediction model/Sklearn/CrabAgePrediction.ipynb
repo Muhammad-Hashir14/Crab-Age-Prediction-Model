{
 "cells": [
  {
   "cell_type": "code",
   "execution_count": 1,
   "id": "eac3fe9e",
   "metadata": {},
   "outputs": [],
   "source": [
    "import pandas as pd\n",
    "import numpy as np\n",
    "from matplotlib import pyplot as plt\n",
    "import matplotlib as mlp\n",
    "from sklearn.model_selection import train_test_split\n",
    "from sklearn.linear_model import LinearRegression\n",
    "from sklearn.metrics import r2_score\n",
    "from sklearn.metrics import mean_squared_error"
   ]
  },
  {
   "cell_type": "code",
   "execution_count": 2,
   "id": "340e52a8",
   "metadata": {},
   "outputs": [],
   "source": [
    "data = pd.read_csv('train.csv')"
   ]
  },
  {
   "cell_type": "code",
   "execution_count": 3,
   "id": "07e3bbb7",
   "metadata": {},
   "outputs": [
    {
     "data": {
      "text/html": [
       "<div>\n",
       "<style scoped>\n",
       "    .dataframe tbody tr th:only-of-type {\n",
       "        vertical-align: middle;\n",
       "    }\n",
       "\n",
       "    .dataframe tbody tr th {\n",
       "        vertical-align: top;\n",
       "    }\n",
       "\n",
       "    .dataframe thead th {\n",
       "        text-align: right;\n",
       "    }\n",
       "</style>\n",
       "<table border=\"1\" class=\"dataframe\">\n",
       "  <thead>\n",
       "    <tr style=\"text-align: right;\">\n",
       "      <th></th>\n",
       "      <th>id</th>\n",
       "      <th>Sex</th>\n",
       "      <th>Length</th>\n",
       "      <th>Diameter</th>\n",
       "      <th>Height</th>\n",
       "      <th>Weight</th>\n",
       "      <th>Shucked Weight</th>\n",
       "      <th>Viscera Weight</th>\n",
       "      <th>Shell Weight</th>\n",
       "      <th>Age</th>\n",
       "    </tr>\n",
       "  </thead>\n",
       "  <tbody>\n",
       "    <tr>\n",
       "      <th>0</th>\n",
       "      <td>0</td>\n",
       "      <td>I</td>\n",
       "      <td>1.5250</td>\n",
       "      <td>1.1750</td>\n",
       "      <td>0.3750</td>\n",
       "      <td>28.973189</td>\n",
       "      <td>12.728926</td>\n",
       "      <td>6.647958</td>\n",
       "      <td>8.348928</td>\n",
       "      <td>9</td>\n",
       "    </tr>\n",
       "    <tr>\n",
       "      <th>1</th>\n",
       "      <td>1</td>\n",
       "      <td>I</td>\n",
       "      <td>1.1000</td>\n",
       "      <td>0.8250</td>\n",
       "      <td>0.2750</td>\n",
       "      <td>10.418441</td>\n",
       "      <td>4.521745</td>\n",
       "      <td>2.324659</td>\n",
       "      <td>3.401940</td>\n",
       "      <td>8</td>\n",
       "    </tr>\n",
       "    <tr>\n",
       "      <th>2</th>\n",
       "      <td>2</td>\n",
       "      <td>M</td>\n",
       "      <td>1.3875</td>\n",
       "      <td>1.1125</td>\n",
       "      <td>0.3750</td>\n",
       "      <td>24.777463</td>\n",
       "      <td>11.339800</td>\n",
       "      <td>5.556502</td>\n",
       "      <td>6.662133</td>\n",
       "      <td>9</td>\n",
       "    </tr>\n",
       "    <tr>\n",
       "      <th>3</th>\n",
       "      <td>3</td>\n",
       "      <td>F</td>\n",
       "      <td>1.7000</td>\n",
       "      <td>1.4125</td>\n",
       "      <td>0.5000</td>\n",
       "      <td>50.660556</td>\n",
       "      <td>20.354941</td>\n",
       "      <td>10.991839</td>\n",
       "      <td>14.996885</td>\n",
       "      <td>11</td>\n",
       "    </tr>\n",
       "    <tr>\n",
       "      <th>4</th>\n",
       "      <td>4</td>\n",
       "      <td>I</td>\n",
       "      <td>1.2500</td>\n",
       "      <td>1.0125</td>\n",
       "      <td>0.3375</td>\n",
       "      <td>23.289114</td>\n",
       "      <td>11.977664</td>\n",
       "      <td>4.507570</td>\n",
       "      <td>5.953395</td>\n",
       "      <td>8</td>\n",
       "    </tr>\n",
       "    <tr>\n",
       "      <th>...</th>\n",
       "      <td>...</td>\n",
       "      <td>...</td>\n",
       "      <td>...</td>\n",
       "      <td>...</td>\n",
       "      <td>...</td>\n",
       "      <td>...</td>\n",
       "      <td>...</td>\n",
       "      <td>...</td>\n",
       "      <td>...</td>\n",
       "      <td>...</td>\n",
       "    </tr>\n",
       "    <tr>\n",
       "      <th>74046</th>\n",
       "      <td>74046</td>\n",
       "      <td>F</td>\n",
       "      <td>1.6625</td>\n",
       "      <td>1.2625</td>\n",
       "      <td>0.4375</td>\n",
       "      <td>50.660556</td>\n",
       "      <td>20.680960</td>\n",
       "      <td>10.361742</td>\n",
       "      <td>12.332033</td>\n",
       "      <td>10</td>\n",
       "    </tr>\n",
       "    <tr>\n",
       "      <th>74047</th>\n",
       "      <td>74047</td>\n",
       "      <td>I</td>\n",
       "      <td>1.0750</td>\n",
       "      <td>0.8625</td>\n",
       "      <td>0.2750</td>\n",
       "      <td>10.446791</td>\n",
       "      <td>4.323299</td>\n",
       "      <td>2.296310</td>\n",
       "      <td>3.543687</td>\n",
       "      <td>6</td>\n",
       "    </tr>\n",
       "    <tr>\n",
       "      <th>74048</th>\n",
       "      <td>74048</td>\n",
       "      <td>F</td>\n",
       "      <td>1.4875</td>\n",
       "      <td>1.2000</td>\n",
       "      <td>0.4125</td>\n",
       "      <td>29.483480</td>\n",
       "      <td>12.303683</td>\n",
       "      <td>7.540967</td>\n",
       "      <td>8.079607</td>\n",
       "      <td>10</td>\n",
       "    </tr>\n",
       "    <tr>\n",
       "      <th>74049</th>\n",
       "      <td>74049</td>\n",
       "      <td>I</td>\n",
       "      <td>1.2125</td>\n",
       "      <td>0.9625</td>\n",
       "      <td>0.3125</td>\n",
       "      <td>16.768729</td>\n",
       "      <td>8.972617</td>\n",
       "      <td>2.919999</td>\n",
       "      <td>4.280774</td>\n",
       "      <td>8</td>\n",
       "    </tr>\n",
       "    <tr>\n",
       "      <th>74050</th>\n",
       "      <td>74050</td>\n",
       "      <td>I</td>\n",
       "      <td>0.9125</td>\n",
       "      <td>0.6750</td>\n",
       "      <td>0.2000</td>\n",
       "      <td>5.386405</td>\n",
       "      <td>2.055339</td>\n",
       "      <td>1.034757</td>\n",
       "      <td>1.700970</td>\n",
       "      <td>6</td>\n",
       "    </tr>\n",
       "  </tbody>\n",
       "</table>\n",
       "<p>74051 rows × 10 columns</p>\n",
       "</div>"
      ],
      "text/plain": [
       "          id Sex  Length  Diameter  Height     Weight  Shucked Weight  \\\n",
       "0          0   I  1.5250    1.1750  0.3750  28.973189       12.728926   \n",
       "1          1   I  1.1000    0.8250  0.2750  10.418441        4.521745   \n",
       "2          2   M  1.3875    1.1125  0.3750  24.777463       11.339800   \n",
       "3          3   F  1.7000    1.4125  0.5000  50.660556       20.354941   \n",
       "4          4   I  1.2500    1.0125  0.3375  23.289114       11.977664   \n",
       "...      ...  ..     ...       ...     ...        ...             ...   \n",
       "74046  74046   F  1.6625    1.2625  0.4375  50.660556       20.680960   \n",
       "74047  74047   I  1.0750    0.8625  0.2750  10.446791        4.323299   \n",
       "74048  74048   F  1.4875    1.2000  0.4125  29.483480       12.303683   \n",
       "74049  74049   I  1.2125    0.9625  0.3125  16.768729        8.972617   \n",
       "74050  74050   I  0.9125    0.6750  0.2000   5.386405        2.055339   \n",
       "\n",
       "       Viscera Weight  Shell Weight  Age  \n",
       "0            6.647958      8.348928    9  \n",
       "1            2.324659      3.401940    8  \n",
       "2            5.556502      6.662133    9  \n",
       "3           10.991839     14.996885   11  \n",
       "4            4.507570      5.953395    8  \n",
       "...               ...           ...  ...  \n",
       "74046       10.361742     12.332033   10  \n",
       "74047        2.296310      3.543687    6  \n",
       "74048        7.540967      8.079607   10  \n",
       "74049        2.919999      4.280774    8  \n",
       "74050        1.034757      1.700970    6  \n",
       "\n",
       "[74051 rows x 10 columns]"
      ]
     },
     "execution_count": 3,
     "metadata": {},
     "output_type": "execute_result"
    }
   ],
   "source": [
    "data"
   ]
  },
  {
   "cell_type": "code",
   "execution_count": 4,
   "id": "88965e56",
   "metadata": {},
   "outputs": [],
   "source": [
    "train_cols = [\n",
    "    'Sex',\n",
    "    'Length',\n",
    "    \"Diameter\",\n",
    "    \"Height\",\n",
    "    \"Weight\",\n",
    "    \"Shucked Weight\",\n",
    "    \"Viscera Weight\",\n",
    "    \"Shell Weight\"\n",
    "]"
   ]
  },
  {
   "cell_type": "code",
   "execution_count": 5,
   "id": "16d4d188",
   "metadata": {},
   "outputs": [],
   "source": [
    "train = data[train_cols]"
   ]
  },
  {
   "cell_type": "code",
   "execution_count": 6,
   "id": "98ec4337",
   "metadata": {},
   "outputs": [
    {
     "data": {
      "text/html": [
       "<div>\n",
       "<style scoped>\n",
       "    .dataframe tbody tr th:only-of-type {\n",
       "        vertical-align: middle;\n",
       "    }\n",
       "\n",
       "    .dataframe tbody tr th {\n",
       "        vertical-align: top;\n",
       "    }\n",
       "\n",
       "    .dataframe thead th {\n",
       "        text-align: right;\n",
       "    }\n",
       "</style>\n",
       "<table border=\"1\" class=\"dataframe\">\n",
       "  <thead>\n",
       "    <tr style=\"text-align: right;\">\n",
       "      <th></th>\n",
       "      <th>Sex</th>\n",
       "      <th>Length</th>\n",
       "      <th>Diameter</th>\n",
       "      <th>Height</th>\n",
       "      <th>Weight</th>\n",
       "      <th>Shucked Weight</th>\n",
       "      <th>Viscera Weight</th>\n",
       "      <th>Shell Weight</th>\n",
       "    </tr>\n",
       "  </thead>\n",
       "  <tbody>\n",
       "    <tr>\n",
       "      <th>0</th>\n",
       "      <td>I</td>\n",
       "      <td>1.5250</td>\n",
       "      <td>1.1750</td>\n",
       "      <td>0.3750</td>\n",
       "      <td>28.973189</td>\n",
       "      <td>12.728926</td>\n",
       "      <td>6.647958</td>\n",
       "      <td>8.348928</td>\n",
       "    </tr>\n",
       "    <tr>\n",
       "      <th>1</th>\n",
       "      <td>I</td>\n",
       "      <td>1.1000</td>\n",
       "      <td>0.8250</td>\n",
       "      <td>0.2750</td>\n",
       "      <td>10.418441</td>\n",
       "      <td>4.521745</td>\n",
       "      <td>2.324659</td>\n",
       "      <td>3.401940</td>\n",
       "    </tr>\n",
       "    <tr>\n",
       "      <th>2</th>\n",
       "      <td>M</td>\n",
       "      <td>1.3875</td>\n",
       "      <td>1.1125</td>\n",
       "      <td>0.3750</td>\n",
       "      <td>24.777463</td>\n",
       "      <td>11.339800</td>\n",
       "      <td>5.556502</td>\n",
       "      <td>6.662133</td>\n",
       "    </tr>\n",
       "    <tr>\n",
       "      <th>3</th>\n",
       "      <td>F</td>\n",
       "      <td>1.7000</td>\n",
       "      <td>1.4125</td>\n",
       "      <td>0.5000</td>\n",
       "      <td>50.660556</td>\n",
       "      <td>20.354941</td>\n",
       "      <td>10.991839</td>\n",
       "      <td>14.996885</td>\n",
       "    </tr>\n",
       "    <tr>\n",
       "      <th>4</th>\n",
       "      <td>I</td>\n",
       "      <td>1.2500</td>\n",
       "      <td>1.0125</td>\n",
       "      <td>0.3375</td>\n",
       "      <td>23.289114</td>\n",
       "      <td>11.977664</td>\n",
       "      <td>4.507570</td>\n",
       "      <td>5.953395</td>\n",
       "    </tr>\n",
       "    <tr>\n",
       "      <th>...</th>\n",
       "      <td>...</td>\n",
       "      <td>...</td>\n",
       "      <td>...</td>\n",
       "      <td>...</td>\n",
       "      <td>...</td>\n",
       "      <td>...</td>\n",
       "      <td>...</td>\n",
       "      <td>...</td>\n",
       "    </tr>\n",
       "    <tr>\n",
       "      <th>74046</th>\n",
       "      <td>F</td>\n",
       "      <td>1.6625</td>\n",
       "      <td>1.2625</td>\n",
       "      <td>0.4375</td>\n",
       "      <td>50.660556</td>\n",
       "      <td>20.680960</td>\n",
       "      <td>10.361742</td>\n",
       "      <td>12.332033</td>\n",
       "    </tr>\n",
       "    <tr>\n",
       "      <th>74047</th>\n",
       "      <td>I</td>\n",
       "      <td>1.0750</td>\n",
       "      <td>0.8625</td>\n",
       "      <td>0.2750</td>\n",
       "      <td>10.446791</td>\n",
       "      <td>4.323299</td>\n",
       "      <td>2.296310</td>\n",
       "      <td>3.543687</td>\n",
       "    </tr>\n",
       "    <tr>\n",
       "      <th>74048</th>\n",
       "      <td>F</td>\n",
       "      <td>1.4875</td>\n",
       "      <td>1.2000</td>\n",
       "      <td>0.4125</td>\n",
       "      <td>29.483480</td>\n",
       "      <td>12.303683</td>\n",
       "      <td>7.540967</td>\n",
       "      <td>8.079607</td>\n",
       "    </tr>\n",
       "    <tr>\n",
       "      <th>74049</th>\n",
       "      <td>I</td>\n",
       "      <td>1.2125</td>\n",
       "      <td>0.9625</td>\n",
       "      <td>0.3125</td>\n",
       "      <td>16.768729</td>\n",
       "      <td>8.972617</td>\n",
       "      <td>2.919999</td>\n",
       "      <td>4.280774</td>\n",
       "    </tr>\n",
       "    <tr>\n",
       "      <th>74050</th>\n",
       "      <td>I</td>\n",
       "      <td>0.9125</td>\n",
       "      <td>0.6750</td>\n",
       "      <td>0.2000</td>\n",
       "      <td>5.386405</td>\n",
       "      <td>2.055339</td>\n",
       "      <td>1.034757</td>\n",
       "      <td>1.700970</td>\n",
       "    </tr>\n",
       "  </tbody>\n",
       "</table>\n",
       "<p>74051 rows × 8 columns</p>\n",
       "</div>"
      ],
      "text/plain": [
       "      Sex  Length  Diameter  Height     Weight  Shucked Weight  \\\n",
       "0       I  1.5250    1.1750  0.3750  28.973189       12.728926   \n",
       "1       I  1.1000    0.8250  0.2750  10.418441        4.521745   \n",
       "2       M  1.3875    1.1125  0.3750  24.777463       11.339800   \n",
       "3       F  1.7000    1.4125  0.5000  50.660556       20.354941   \n",
       "4       I  1.2500    1.0125  0.3375  23.289114       11.977664   \n",
       "...    ..     ...       ...     ...        ...             ...   \n",
       "74046   F  1.6625    1.2625  0.4375  50.660556       20.680960   \n",
       "74047   I  1.0750    0.8625  0.2750  10.446791        4.323299   \n",
       "74048   F  1.4875    1.2000  0.4125  29.483480       12.303683   \n",
       "74049   I  1.2125    0.9625  0.3125  16.768729        8.972617   \n",
       "74050   I  0.9125    0.6750  0.2000   5.386405        2.055339   \n",
       "\n",
       "       Viscera Weight  Shell Weight  \n",
       "0            6.647958      8.348928  \n",
       "1            2.324659      3.401940  \n",
       "2            5.556502      6.662133  \n",
       "3           10.991839     14.996885  \n",
       "4            4.507570      5.953395  \n",
       "...               ...           ...  \n",
       "74046       10.361742     12.332033  \n",
       "74047        2.296310      3.543687  \n",
       "74048        7.540967      8.079607  \n",
       "74049        2.919999      4.280774  \n",
       "74050        1.034757      1.700970  \n",
       "\n",
       "[74051 rows x 8 columns]"
      ]
     },
     "execution_count": 6,
     "metadata": {},
     "output_type": "execute_result"
    }
   ],
   "source": [
    "train"
   ]
  },
  {
   "cell_type": "code",
   "execution_count": 7,
   "id": "2297c45b",
   "metadata": {},
   "outputs": [
    {
     "name": "stdout",
     "output_type": "stream",
     "text": [
      "<class 'pandas.core.frame.DataFrame'>\n",
      "RangeIndex: 74051 entries, 0 to 74050\n",
      "Data columns (total 8 columns):\n",
      " #   Column          Non-Null Count  Dtype  \n",
      "---  ------          --------------  -----  \n",
      " 0   Sex             74051 non-null  object \n",
      " 1   Length          74051 non-null  float64\n",
      " 2   Diameter        74051 non-null  float64\n",
      " 3   Height          74051 non-null  float64\n",
      " 4   Weight          74051 non-null  float64\n",
      " 5   Shucked Weight  74051 non-null  float64\n",
      " 6   Viscera Weight  74051 non-null  float64\n",
      " 7   Shell Weight    74051 non-null  float64\n",
      "dtypes: float64(7), object(1)\n",
      "memory usage: 4.5+ MB\n"
     ]
    }
   ],
   "source": [
    "train.info()"
   ]
  },
  {
   "cell_type": "code",
   "execution_count": 8,
   "id": "c523fb12",
   "metadata": {},
   "outputs": [
    {
     "data": {
      "text/plain": [
       "Text(0, 0.5, 'Age')"
      ]
     },
     "execution_count": 8,
     "metadata": {},
     "output_type": "execute_result"
    },
    {
     "data": {
      "image/png": "[encoded data removed]",
      "text/plain": [
       "<Figure size 1200x600 with 6 Axes>"
      ]
     },
     "metadata": {},
     "output_type": "display_data"
    }
   ],
   "source": [
    "fig, ax = plt.subplots(2,3, figsize = (12,6))\n",
    "plt.subplots_adjust(hspace=0.3)\n",
    "plt.subplots_adjust(wspace=0.3)\n",
    "ax[0,0].scatter(train['Length'][:100], data['Age'][:100], color = 'red')\n",
    "ax[0,0].set_xlabel('Length')\n",
    "ax[0,0].set_ylabel('Age')\n",
    "\n",
    "ax[0,1].scatter(train['Diameter'][:100], data['Age'][:100])\n",
    "ax[0,1].set_xlabel('Diameter')\n",
    "ax[0,1].set_ylabel('Age')\n",
    "\n",
    "ax[0,2].scatter(train['Height'][:100], data['Age'][:100], color = 'pink')\n",
    "ax[0,2].set_xlabel('Height')\n",
    "ax[0,2].set_ylabel('Age')\n",
    "\n",
    "ax[1,0].scatter(train['Weight'][:100], data['Age'][:100], color = 'purple')\n",
    "ax[1,0].set_xlabel('Weight')\n",
    "ax[1,0].set_ylabel('Age')\n",
    "\n",
    "ax[1,1].scatter(train['Shucked Weight'][:100], data['Age'][:100],color =  'orange')\n",
    "ax[1,1].set_xlabel('Shucked Weight')\n",
    "ax[1,1].set_ylabel('Age')\n",
    "\n",
    "ax[1,2].scatter(train['Viscera Weight'][:100], data['Age'][:100], color = 'brown')\n",
    "ax[1,2].set_xlabel('Viscera Weight')\n",
    "ax[1,2].set_ylabel('Age')"
   ]
  },
  {
   "cell_type": "code",
   "execution_count": 9,
   "id": "217b9988",
   "metadata": {},
   "outputs": [
    {
     "data": {
      "text/plain": [
       "M    27084\n",
       "I    23957\n",
       "F    23010\n",
       "Name: Sex, dtype: int64"
      ]
     },
     "execution_count": 9,
     "metadata": {},
     "output_type": "execute_result"
    }
   ],
   "source": [
    "train['Sex'].value_counts()"
   ]
  },
  {
   "cell_type": "code",
   "execution_count": 10,
   "id": "16892677",
   "metadata": {},
   "outputs": [],
   "source": [
    "sex = {\n",
    "    'M':0,\n",
    "    'I':1,\n",
    "    'F':2\n",
    "}"
   ]
  },
  {
   "cell_type": "code",
   "execution_count": 11,
   "id": "beae5dd3",
   "metadata": {},
   "outputs": [
    {
     "name": "stderr",
     "output_type": "stream",
     "text": [
      "C:\\Users\\hashi\\AppData\\Local\\Temp\\ipykernel_8408\\882771120.py:1: SettingWithCopyWarning: \n",
      "A value is trying to be set on a copy of a slice from a DataFrame.\n",
      "Try using .loc[row_indexer,col_indexer] = value instead\n",
      "\n",
      "See the caveats in the documentation: https://pandas.pydata.org/pandas-docs/stable/user_guide/indexing.html#returning-a-view-versus-a-copy\n",
      "  train['Sex'] = train['Sex'].map(sex)\n"
     ]
    }
   ],
   "source": [
    "train['Sex'] = train['Sex'].map(sex)"
   ]
  },
  {
   "cell_type": "code",
   "execution_count": 12,
   "id": "b9ebff95",
   "metadata": {},
   "outputs": [
    {
     "data": {
      "text/html": [
       "<div>\n",
       "<style scoped>\n",
       "    .dataframe tbody tr th:only-of-type {\n",
       "        vertical-align: middle;\n",
       "    }\n",
       "\n",
       "    .dataframe tbody tr th {\n",
       "        vertical-align: top;\n",
       "    }\n",
       "\n",
       "    .dataframe thead th {\n",
       "        text-align: right;\n",
       "    }\n",
       "</style>\n",
       "<table border=\"1\" class=\"dataframe\">\n",
       "  <thead>\n",
       "    <tr style=\"text-align: right;\">\n",
       "      <th></th>\n",
       "      <th>Sex</th>\n",
       "      <th>Length</th>\n",
       "      <th>Diameter</th>\n",
       "      <th>Height</th>\n",
       "      <th>Weight</th>\n",
       "      <th>Shucked Weight</th>\n",
       "      <th>Viscera Weight</th>\n",
       "      <th>Shell Weight</th>\n",
       "    </tr>\n",
       "  </thead>\n",
       "  <tbody>\n",
       "    <tr>\n",
       "      <th>0</th>\n",
       "      <td>1</td>\n",
       "      <td>1.5250</td>\n",
       "      <td>1.1750</td>\n",
       "      <td>0.3750</td>\n",
       "      <td>28.973189</td>\n",
       "      <td>12.728926</td>\n",
       "      <td>6.647958</td>\n",
       "      <td>8.348928</td>\n",
       "    </tr>\n",
       "    <tr>\n",
       "      <th>1</th>\n",
       "      <td>1</td>\n",
       "      <td>1.1000</td>\n",
       "      <td>0.8250</td>\n",
       "      <td>0.2750</td>\n",
       "      <td>10.418441</td>\n",
       "      <td>4.521745</td>\n",
       "      <td>2.324659</td>\n",
       "      <td>3.401940</td>\n",
       "    </tr>\n",
       "    <tr>\n",
       "      <th>2</th>\n",
       "      <td>0</td>\n",
       "      <td>1.3875</td>\n",
       "      <td>1.1125</td>\n",
       "      <td>0.3750</td>\n",
       "      <td>24.777463</td>\n",
       "      <td>11.339800</td>\n",
       "      <td>5.556502</td>\n",
       "      <td>6.662133</td>\n",
       "    </tr>\n",
       "    <tr>\n",
       "      <th>3</th>\n",
       "      <td>2</td>\n",
       "      <td>1.7000</td>\n",
       "      <td>1.4125</td>\n",
       "      <td>0.5000</td>\n",
       "      <td>50.660556</td>\n",
       "      <td>20.354941</td>\n",
       "      <td>10.991839</td>\n",
       "      <td>14.996885</td>\n",
       "    </tr>\n",
       "    <tr>\n",
       "      <th>4</th>\n",
       "      <td>1</td>\n",
       "      <td>1.2500</td>\n",
       "      <td>1.0125</td>\n",
       "      <td>0.3375</td>\n",
       "      <td>23.289114</td>\n",
       "      <td>11.977664</td>\n",
       "      <td>4.507570</td>\n",
       "      <td>5.953395</td>\n",
       "    </tr>\n",
       "    <tr>\n",
       "      <th>...</th>\n",
       "      <td>...</td>\n",
       "      <td>...</td>\n",
       "      <td>...</td>\n",
       "      <td>...</td>\n",
       "      <td>...</td>\n",
       "      <td>...</td>\n",
       "      <td>...</td>\n",
       "      <td>...</td>\n",
       "    </tr>\n",
       "    <tr>\n",
       "      <th>74046</th>\n",
       "      <td>2</td>\n",
       "      <td>1.6625</td>\n",
       "      <td>1.2625</td>\n",
       "      <td>0.4375</td>\n",
       "      <td>50.660556</td>\n",
       "      <td>20.680960</td>\n",
       "      <td>10.361742</td>\n",
       "      <td>12.332033</td>\n",
       "    </tr>\n",
       "    <tr>\n",
       "      <th>74047</th>\n",
       "      <td>1</td>\n",
       "      <td>1.0750</td>\n",
       "      <td>0.8625</td>\n",
       "      <td>0.2750</td>\n",
       "      <td>10.446791</td>\n",
       "      <td>4.323299</td>\n",
       "      <td>2.296310</td>\n",
       "      <td>3.543687</td>\n",
       "    </tr>\n",
       "    <tr>\n",
       "      <th>74048</th>\n",
       "      <td>2</td>\n",
       "      <td>1.4875</td>\n",
       "      <td>1.2000</td>\n",
       "      <td>0.4125</td>\n",
       "      <td>29.483480</td>\n",
       "      <td>12.303683</td>\n",
       "      <td>7.540967</td>\n",
       "      <td>8.079607</td>\n",
       "    </tr>\n",
       "    <tr>\n",
       "      <th>74049</th>\n",
       "      <td>1</td>\n",
       "      <td>1.2125</td>\n",
       "      <td>0.9625</td>\n",
       "      <td>0.3125</td>\n",
       "      <td>16.768729</td>\n",
       "      <td>8.972617</td>\n",
       "      <td>2.919999</td>\n",
       "      <td>4.280774</td>\n",
       "    </tr>\n",
       "    <tr>\n",
       "      <th>74050</th>\n",
       "      <td>1</td>\n",
       "      <td>0.9125</td>\n",
       "      <td>0.6750</td>\n",
       "      <td>0.2000</td>\n",
       "      <td>5.386405</td>\n",
       "      <td>2.055339</td>\n",
       "      <td>1.034757</td>\n",
       "      <td>1.700970</td>\n",
       "    </tr>\n",
       "  </tbody>\n",
       "</table>\n",
       "<p>74051 rows × 8 columns</p>\n",
       "</div>"
      ],
      "text/plain": [
       "       Sex  Length  Diameter  Height     Weight  Shucked Weight  \\\n",
       "0        1  1.5250    1.1750  0.3750  28.973189       12.728926   \n",
       "1        1  1.1000    0.8250  0.2750  10.418441        4.521745   \n",
       "2        0  1.3875    1.1125  0.3750  24.777463       11.339800   \n",
       "3        2  1.7000    1.4125  0.5000  50.660556       20.354941   \n",
       "4        1  1.2500    1.0125  0.3375  23.289114       11.977664   \n",
       "...    ...     ...       ...     ...        ...             ...   \n",
       "74046    2  1.6625    1.2625  0.4375  50.660556       20.680960   \n",
       "74047    1  1.0750    0.8625  0.2750  10.446791        4.323299   \n",
       "74048    2  1.4875    1.2000  0.4125  29.483480       12.303683   \n",
       "74049    1  1.2125    0.9625  0.3125  16.768729        8.972617   \n",
       "74050    1  0.9125    0.6750  0.2000   5.386405        2.055339   \n",
       "\n",
       "       Viscera Weight  Shell Weight  \n",
       "0            6.647958      8.348928  \n",
       "1            2.324659      3.401940  \n",
       "2            5.556502      6.662133  \n",
       "3           10.991839     14.996885  \n",
       "4            4.507570      5.953395  \n",
       "...               ...           ...  \n",
       "74046       10.361742     12.332033  \n",
       "74047        2.296310      3.543687  \n",
       "74048        7.540967      8.079607  \n",
       "74049        2.919999      4.280774  \n",
       "74050        1.034757      1.700970  \n",
       "\n",
       "[74051 rows x 8 columns]"
      ]
     },
     "execution_count": 12,
     "metadata": {},
     "output_type": "execute_result"
    }
   ],
   "source": [
    "train"
   ]
  },
  {
   "cell_type": "code",
   "execution_count": 13,
   "id": "3a88335a",
   "metadata": {},
   "outputs": [
    {
     "name": "stdout",
     "output_type": "stream",
     "text": [
      "<class 'pandas.core.frame.DataFrame'>\n",
      "RangeIndex: 74051 entries, 0 to 74050\n",
      "Data columns (total 8 columns):\n",
      " #   Column          Non-Null Count  Dtype  \n",
      "---  ------          --------------  -----  \n",
      " 0   Sex             74051 non-null  int64  \n",
      " 1   Length          74051 non-null  float64\n",
      " 2   Diameter        74051 non-null  float64\n",
      " 3   Height          74051 non-null  float64\n",
      " 4   Weight          74051 non-null  float64\n",
      " 5   Shucked Weight  74051 non-null  float64\n",
      " 6   Viscera Weight  74051 non-null  float64\n",
      " 7   Shell Weight    74051 non-null  float64\n",
      "dtypes: float64(7), int64(1)\n",
      "memory usage: 4.5 MB\n"
     ]
    }
   ],
   "source": [
    "train.info()"
   ]
  },
  {
   "cell_type": "code",
   "execution_count": 14,
   "id": "7f22ca20",
   "metadata": {},
   "outputs": [
    {
     "name": "stderr",
     "output_type": "stream",
     "text": [
      "C:\\Users\\hashi\\AppData\\Local\\Temp\\ipykernel_8408\\375338323.py:1: SettingWithCopyWarning: \n",
      "A value is trying to be set on a copy of a slice from a DataFrame.\n",
      "Try using .loc[row_indexer,col_indexer] = value instead\n",
      "\n",
      "See the caveats in the documentation: https://pandas.pydata.org/pandas-docs/stable/user_guide/indexing.html#returning-a-view-versus-a-copy\n",
      "  train['Sex'] = train['Sex'].astype('float64')\n"
     ]
    }
   ],
   "source": [
    "train['Sex'] = train['Sex'].astype('float64')"
   ]
  },
  {
   "cell_type": "code",
   "execution_count": 15,
   "id": "80ca8710",
   "metadata": {},
   "outputs": [
    {
     "name": "stdout",
     "output_type": "stream",
     "text": [
      "<class 'pandas.core.frame.DataFrame'>\n",
      "RangeIndex: 74051 entries, 0 to 74050\n",
      "Data columns (total 8 columns):\n",
      " #   Column          Non-Null Count  Dtype  \n",
      "---  ------          --------------  -----  \n",
      " 0   Sex             74051 non-null  float64\n",
      " 1   Length          74051 non-null  float64\n",
      " 2   Diameter        74051 non-null  float64\n",
      " 3   Height          74051 non-null  float64\n",
      " 4   Weight          74051 non-null  float64\n",
      " 5   Shucked Weight  74051 non-null  float64\n",
      " 6   Viscera Weight  74051 non-null  float64\n",
      " 7   Shell Weight    74051 non-null  float64\n",
      "dtypes: float64(8)\n",
      "memory usage: 4.5 MB\n"
     ]
    }
   ],
   "source": [
    "train.info()"
   ]
  },
  {
   "cell_type": "code",
   "execution_count": 16,
   "id": "74ac008d",
   "metadata": {},
   "outputs": [],
   "source": [
    "labels = data['Age']"
   ]
  },
  {
   "cell_type": "code",
   "execution_count": 17,
   "id": "64cdbe47",
   "metadata": {},
   "outputs": [
    {
     "data": {
      "text/plain": [
       "dtype('int64')"
      ]
     },
     "execution_count": 17,
     "metadata": {},
     "output_type": "execute_result"
    }
   ],
   "source": [
    "labels.dtype"
   ]
  },
  {
   "cell_type": "code",
   "execution_count": 18,
   "id": "8eb3355e",
   "metadata": {},
   "outputs": [],
   "source": [
    "labels = labels.astype('float64')"
   ]
  },
  {
   "cell_type": "code",
   "execution_count": 19,
   "id": "4cbbee41",
   "metadata": {},
   "outputs": [
    {
     "data": {
      "text/plain": [
       "(74051, 8)"
      ]
     },
     "execution_count": 19,
     "metadata": {},
     "output_type": "execute_result"
    }
   ],
   "source": [
    "train.shape"
   ]
  },
  {
   "cell_type": "code",
   "execution_count": 20,
   "id": "33e312bf",
   "metadata": {},
   "outputs": [
    {
     "data": {
      "text/plain": [
       "(74051,)"
      ]
     },
     "execution_count": 20,
     "metadata": {},
     "output_type": "execute_result"
    }
   ],
   "source": [
    "labels.shape"
   ]
  },
  {
   "cell_type": "code",
   "execution_count": 21,
   "id": "bc8fce31",
   "metadata": {},
   "outputs": [],
   "source": [
    "xtrain, xtest, ytrain, ytest = train_test_split(train, labels, test_size = 0.2)"
   ]
  },
  {
   "cell_type": "code",
   "execution_count": 22,
   "id": "df4774a3",
   "metadata": {},
   "outputs": [
    {
     "name": "stdout",
     "output_type": "stream",
     "text": [
      "(59240, 8)\n",
      "(14811, 8)\n",
      "(59240,)\n",
      "(14811,)\n"
     ]
    }
   ],
   "source": [
    "print(xtrain.shape)\n",
    "print(xtest.shape)\n",
    "print(ytrain.shape)\n",
    "print(ytest.shape)"
   ]
  },
  {
   "cell_type": "code",
   "execution_count": 23,
   "id": "1b4a11c5",
   "metadata": {},
   "outputs": [
    {
     "data": {
      "text/html": [
       "<style>#sk-container-id-1 {color: black;background-color: white;}#sk-container-id-1 pre{padding: 0;}#sk-container-id-1 div.sk-toggleable {background-color: white;}#sk-container-id-1 label.sk-toggleable__label {cursor: pointer;display: block;width: 100%;margin-bottom: 0;padding: 0.3em;box-sizing: border-box;text-align: center;}#sk-container-id-1 label.sk-toggleable__label-arrow:before {content: \"▸\";float: left;margin-right: 0.25em;color: #696969;}#sk-container-id-1 label.sk-toggleable__label-arrow:hover:before {color: black;}#sk-container-id-1 div.sk-estimator:hover label.sk-toggleable__label-arrow:before {color: black;}#sk-container-id-1 div.sk-toggleable__content {max-height: 0;max-width: 0;overflow: hidden;text-align: left;background-color: #f0f8ff;}#sk-container-id-1 div.sk-toggleable__content pre {margin: 0.2em;color: black;border-radius: 0.25em;background-color: #f0f8ff;}#sk-container-id-1 input.sk-toggleable__control:checked~div.sk-toggleable__content {max-height: 200px;max-width: 100%;overflow: auto;}#sk-container-id-1 input.sk-toggleable__control:checked~label.sk-toggleable__label-arrow:before {content: \"▾\";}#sk-container-id-1 div.sk-estimator input.sk-toggleable__control:checked~label.sk-toggleable__label {background-color: #d4ebff;}#sk-container-id-1 div.sk-label input.sk-toggleable__control:checked~label.sk-toggleable__label {background-color: #d4ebff;}#sk-container-id-1 input.sk-hidden--visually {border: 0;clip: rect(1px 1px 1px 1px);clip: rect(1px, 1px, 1px, 1px);height: 1px;margin: -1px;overflow: hidden;padding: 0;position: absolute;width: 1px;}#sk-container-id-1 div.sk-estimator {font-family: monospace;background-color: #f0f8ff;border: 1px dotted black;border-radius: 0.25em;box-sizing: border-box;margin-bottom: 0.5em;}#sk-container-id-1 div.sk-estimator:hover {background-color: #d4ebff;}#sk-container-id-1 div.sk-parallel-item::after {content: \"\";width: 100%;border-bottom: 1px solid gray;flex-grow: 1;}#sk-container-id-1 div.sk-label:hover label.sk-toggleable__label {background-color: #d4ebff;}#sk-container-id-1 div.sk-serial::before {content: \"\";position: absolute;border-left: 1px solid gray;box-sizing: border-box;top: 0;bottom: 0;left: 50%;z-index: 0;}#sk-container-id-1 div.sk-serial {display: flex;flex-direction: column;align-items: center;background-color: white;padding-right: 0.2em;padding-left: 0.2em;position: relative;}#sk-container-id-1 div.sk-item {position: relative;z-index: 1;}#sk-container-id-1 div.sk-parallel {display: flex;align-items: stretch;justify-content: center;background-color: white;position: relative;}#sk-container-id-1 div.sk-item::before, #sk-container-id-1 div.sk-parallel-item::before {content: \"\";position: absolute;border-left: 1px solid gray;box-sizing: border-box;top: 0;bottom: 0;left: 50%;z-index: -1;}#sk-container-id-1 div.sk-parallel-item {display: flex;flex-direction: column;z-index: 1;position: relative;background-color: white;}#sk-container-id-1 div.sk-parallel-item:first-child::after {align-self: flex-end;width: 50%;}#sk-container-id-1 div.sk-parallel-item:last-child::after {align-self: flex-start;width: 50%;}#sk-container-id-1 div.sk-parallel-item:only-child::after {width: 0;}#sk-container-id-1 div.sk-dashed-wrapped {border: 1px dashed gray;margin: 0 0.4em 0.5em 0.4em;box-sizing: border-box;padding-bottom: 0.4em;background-color: white;}#sk-container-id-1 div.sk-label label {font-family: monospace;font-weight: bold;display: inline-block;line-height: 1.2em;}#sk-container-id-1 div.sk-label-container {text-align: center;}#sk-container-id-1 div.sk-container {/* jupyter's `normalize.less` sets `[hidden] { display: none; }` but bootstrap.min.css set `[hidden] { display: none !important; }` so we also need the `!important` here to be able to override the default hidden behavior on the sphinx rendered scikit-learn.org. See: https://github.com/scikit-learn/scikit-learn/issues/21755 */display: inline-block !important;position: relative;}#sk-container-id-1 div.sk-text-repr-fallback {display: none;}</style><div id=\"sk-container-id-1\" class=\"sk-top-container\"><div class=\"sk-text-repr-fallback\"><pre>LinearRegression()</pre><b>In a Jupyter environment, please rerun this cell to show the HTML representation or trust the notebook. <br />On GitHub, the HTML representation is unable to render, please try loading this page with nbviewer.org.</b></div><div class=\"sk-container\" hidden><div class=\"sk-item\"><div class=\"sk-estimator sk-toggleable\"><input class=\"sk-toggleable__control sk-hidden--visually\" id=\"sk-estimator-id-1\" type=\"checkbox\" checked><label for=\"sk-estimator-id-1\" class=\"sk-toggleable__label sk-toggleable__label-arrow\">LinearRegression</label><div class=\"sk-toggleable__content\"><pre>LinearRegression()</pre></div></div></div></div></div>"
      ],
      "text/plain": [
       "LinearRegression()"
      ]
     },
     "execution_count": 23,
     "metadata": {},
     "output_type": "execute_result"
    }
   ],
   "source": [
    "model = LinearRegression()\n",
    "model.fit(xtrain, ytrain)"
   ]
  },
  {
   "cell_type": "code",
   "execution_count": 24,
   "id": "2fdf2f54",
   "metadata": {},
   "outputs": [],
   "source": [
    "y_pred = model.predict(xtest)"
   ]
  },
  {
   "cell_type": "code",
   "execution_count": 25,
   "id": "f0919cb4",
   "metadata": {},
   "outputs": [],
   "source": [
    "mse = mean_squared_error(ytest, y_pred)"
   ]
  },
  {
   "cell_type": "code",
   "execution_count": 26,
   "id": "d068b88f",
   "metadata": {},
   "outputs": [
    {
     "data": {
      "text/plain": [
       "4.583579320037372"
      ]
     },
     "execution_count": 26,
     "metadata": {},
     "output_type": "execute_result"
    }
   ],
   "source": [
    "mse"
   ]
  },
  {
   "cell_type": "code",
   "execution_count": 27,
   "id": "6002f76b",
   "metadata": {},
   "outputs": [],
   "source": [
    "r2 = r2_score(ytest, y_pred)"
   ]
  },
  {
   "cell_type": "code",
   "execution_count": 28,
   "id": "5776b54d",
   "metadata": {},
   "outputs": [
    {
     "data": {
      "text/plain": [
       "0.5482288667919285"
      ]
     },
     "execution_count": 28,
     "metadata": {},
     "output_type": "execute_result"
    }
   ],
   "source": [
    "r2"
   ]
  }
 ],
 "metadata": {
  "kernelspec": {
   "display_name": "Python 3 (ipykernel)",
   "language": "python",
   "name": "python3"
  },
  "language_info": {
   "codemirror_mode": {
    "name": "ipython",
    "version": 3
   },
   "file_extension": ".py",
   "mimetype": "text/x-python",
   "name": "python",
   "nbconvert_exporter": "python",
   "pygments_lexer": "ipython3",
   "version": "3.9.13"
  }
 },
 "nbformat": 4,
 "nbformat_minor": 5
}
